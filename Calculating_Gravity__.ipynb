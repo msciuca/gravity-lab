{
  "nbformat": 4,
  "nbformat_minor": 0,
  "metadata": {
    "colab": {
      "provenance": []
    },
    "kernelspec": {
      "name": "python3",
      "display_name": "Python 3"
    },
    "language_info": {
      "name": "python"
    }
  },
  "cells": [
    {
      "cell_type": "code",
      "execution_count": 29,
      "metadata": {
        "id": "opsdZmLasuGO"
      },
      "outputs": [],
      "source": [
        "### WE ARE LEARNING PYTHON TODAY ###\n",
        "\n",
        "# TAKE THIS DOCUMENT AND MAKE A COPY WITH YOUR NAME #"
      ]
    },
    {
      "cell_type": "markdown",
      "source": [
        "Hello, students. Please follow these instructions carefully."
      ],
      "metadata": {
        "id": "QMlXo_W1swss"
      }
    },
    {
      "cell_type": "markdown",
      "source": [
        "1. Gather your materials.\n",
        "\n",
        "\n",
        "> Ruler\n",
        "\n",
        "> Stopwatch\n",
        "\n",
        "> Ball\n",
        "\n",
        "\n",
        "\n",
        "\n",
        "\n"
      ],
      "metadata": {
        "id": "CmafWHjqs3UF"
      }
    },
    {
      "cell_type": "markdown",
      "source": [
        "2. Set up your on your table so that you are starting from exactly one meter above the height of the table. Keep your ruler as perpendular to the table as possible."
      ],
      "metadata": {
        "id": "eCjP5HylxXOI"
      }
    },
    {
      "cell_type": "markdown",
      "source": [
        "3. Measure the starting height and input it in the next box."
      ],
      "metadata": {
        "id": "Jsk1xJjJxokv"
      }
    },
    {
      "cell_type": "code",
      "source": [
        "height = 1.75 #m"
      ],
      "metadata": {
        "id": "PDSyhxWNxtMO"
      },
      "execution_count": 2,
      "outputs": []
    },
    {
      "cell_type": "markdown",
      "source": [
        "4. Start with the ball at the top of the meterstick.\n",
        "\n",
        "> Using a stopwatch, record the time it takes for the ball to hit the ground.\n",
        "\n",
        "\n"
      ],
      "metadata": {
        "id": "Fx3Yjb2Ix33L"
      }
    },
    {
      "cell_type": "markdown",
      "source": [
        "5. Repeat step number 4 ten times\n",
        "\n",
        "> Replace **time_1 through time_10** with your actual data for time.\n",
        "\n"
      ],
      "metadata": {
        "id": "ySxvveuayPOc"
      }
    },
    {
      "cell_type": "code",
      "source": [
        "time_1 = 0\n",
        "time_2 = 0\n",
        "time_3 = 0\n",
        "time_4 = 0\n",
        "time_5 = 0\n",
        "time_6 = 0\n",
        "time_7 = 0\n",
        "time_8 = 0\n",
        "time_9 = 0\n",
        "time_10 = 0"
      ],
      "metadata": {
        "id": "jzcFcTHWyPx4"
      },
      "execution_count": 20,
      "outputs": []
    },
    {
      "cell_type": "markdown",
      "source": [
        "We are going to calculate the average."
      ],
      "metadata": {
        "id": "gtZO0GxNy0gU"
      }
    },
    {
      "cell_type": "markdown",
      "source": [
        "How do we calculate the average?\n",
        "> We add up all the data and divide by the number of inputs (or trials)."
      ],
      "metadata": {
        "id": "uZLN1rLpy5k0"
      }
    },
    {
      "cell_type": "markdown",
      "source": [
        "Thankfully Python has built in libraries for that.\n",
        "\n",
        "Unfortunately, we are going to just use pure and simple Python today.\n",
        "\n"
      ],
      "metadata": {
        "id": "bXu8C7cNzDcy"
      }
    },
    {
      "cell_type": "code",
      "source": [
        "# Create a list of time variables\n",
        "time_variables = [time_1, time_2, time_3, time_4, time_5, time_6, time_7, time_8, time_9, time_10]"
      ],
      "metadata": {
        "id": "UGTsb5n8yz3s"
      },
      "execution_count": 21,
      "outputs": []
    },
    {
      "cell_type": "code",
      "source": [
        "def calculate_average_time(time_variables):\n",
        "\n",
        "  # Calculate the sum of the time variables\n",
        "  sum_time = sum(time_variables)\n",
        "\n",
        "  # Calculate the number of time variables\n",
        "  num_time_variables = len(time_variables)\n",
        "\n",
        "  # Calculate the average time\n",
        "  average_time = sum_time / num_time_variables\n",
        "\n",
        "  # Return the average time\n",
        "  return average_time\n"
      ],
      "metadata": {
        "id": "FyBS9u4PyrDU"
      },
      "execution_count": 22,
      "outputs": []
    },
    {
      "cell_type": "code",
      "source": [
        "# Calculate the average time using the function\n",
        "average_time = calculate_average_time(time_variables)\n",
        "\n",
        "print(\"The average time is:\", average_time)"
      ],
      "metadata": {
        "colab": {
          "base_uri": "https://localhost:8080/"
        },
        "id": "6fmWltMl3x7d",
        "outputId": "0c307155-f463-42e8-d9bb-1259b4565986"
      },
      "execution_count": 23,
      "outputs": [
        {
          "output_type": "stream",
          "name": "stdout",
          "text": [
            "The average time is: 0.075\n"
          ]
        }
      ]
    },
    {
      "cell_type": "markdown",
      "source": [
        "# Solving for g"
      ],
      "metadata": {
        "id": "urVFjKN_5crK"
      }
    },
    {
      "cell_type": "markdown",
      "source": [
        "We are going to plug our variables into another equation.\n",
        "\n",
        "We can use the following equation to solve for gravity:\n",
        "\n",
        "![Screen Shot 2023-11-17 at 4.45.10 PM.png](data:image/png;base64,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)\n"
      ],
      "metadata": {
        "id": "mMujlefg4VCt"
      }
    },
    {
      "cell_type": "markdown",
      "source": [
        "where:\n",
        "\n",
        "> g = the acceleration due to gravity\n",
        "\n",
        "> a = the initial acceleration\n",
        "\n",
        "> s = the displacement\n",
        "\n",
        "> t = the time\n",
        "\n",
        "\n"
      ],
      "metadata": {
        "id": "1GiFHxxl4U66"
      }
    },
    {
      "cell_type": "markdown",
      "source": [
        "**Here is an example of how to use the equation to solve for gravity:**\n",
        "\n",
        "A ball is thrown vertically upward with an initial velocity of 20 m/s. It reaches a height of 10 m before falling back to the ground. What is the acceleration due to gravity?\n"
      ],
      "metadata": {
        "id": "zEZ7g3zE6DJr"
      }
    },
    {
      "cell_type": "markdown",
      "source": [
        "![Screen Shot 2023-11-17 at 4.48.42 PM.png](data:image/png;base64,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)"
      ],
      "metadata": {
        "id": "qxNgm5055xuF"
      }
    },
    {
      "cell_type": "markdown",
      "source": [
        "We are going to remove the variable **a** because there is no initial velocity."
      ],
      "metadata": {
        "id": "B9PEzhNQ9aRh"
      }
    },
    {
      "cell_type": "markdown",
      "source": [
        "# Plug and Chug"
      ],
      "metadata": {
        "id": "h2_b0dee9c27"
      }
    },
    {
      "cell_type": "markdown",
      "source": [
        "We are going to solve the equation programmatically."
      ],
      "metadata": {
        "id": "68qwJLo04UvL"
      }
    },
    {
      "cell_type": "code",
      "source": [
        "def calculate_gravity(displacement, time):\n",
        "  gravity = 2 * displacement / time**2\n",
        "  return gravity"
      ],
      "metadata": {
        "id": "ZlTiZP7F301h"
      },
      "execution_count": 24,
      "outputs": []
    },
    {
      "cell_type": "code",
      "source": [
        "displacement = height  # m\n",
        "time = average_time  # s"
      ],
      "metadata": {
        "id": "HNFKKeiL7n1T"
      },
      "execution_count": 25,
      "outputs": []
    },
    {
      "cell_type": "code",
      "source": [
        "gravity = calculate_gravity(displacement, time)"
      ],
      "metadata": {
        "id": "kqFEdRxk7sbV"
      },
      "execution_count": 26,
      "outputs": []
    },
    {
      "cell_type": "code",
      "source": [
        "print(\"Gravity:\", gravity, \"m/s^2\")"
      ],
      "metadata": {
        "colab": {
          "base_uri": "https://localhost:8080/"
        },
        "id": "1Qp7tLaX7sz0",
        "outputId": "cd85d8d3-0ed2-4861-f6b7-7d0e37032eca"
      },
      "execution_count": 27,
      "outputs": [
        {
          "output_type": "stream",
          "name": "stdout",
          "text": [
            "Gravity: 622.2222222222223 m/s^2\n"
          ]
        }
      ]
    },
    {
      "cell_type": "markdown",
      "source": [
        "# WHEN YOU ARE DONE..."
      ],
      "metadata": {
        "id": "7_2FvrTG-jMP"
      }
    },
    {
      "cell_type": "code",
      "source": [],
      "metadata": {
        "id": "i2mx4jq8-lx9"
      },
      "execution_count": null,
      "outputs": []
    }
  ]
}
